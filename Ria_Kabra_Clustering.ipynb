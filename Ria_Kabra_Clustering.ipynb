{
 "cells": [
  {
   "cell_type": "markdown",
   "id": "71becc25-a624-4f42-a7f6-dea6aa9ee355",
   "metadata": {},
   "source": [
    "### TASK 3: CUSTOMER SEGMENTATION/CLUSTERING "
   ]
  },
  {
   "cell_type": "markdown",
   "id": "9e71a4c1-c64d-4db5-b0fb-4b2a2c5ed2d6",
   "metadata": {},
   "source": [
    "Importing necessary Libearies and loading dataset, renaming columns for simplicity"
   ]
  },
  {
   "cell_type": "code",
   "execution_count": 2,
   "id": "3764ad50-33cf-43bf-863b-d5f15df2c835",
   "metadata": {},
   "outputs": [],
   "source": [
    "import pandas as pd\n",
    "from sklearn.cluster import KMeans\n",
    "from sklearn.metrics import davies_bouldin_score\n",
    "import matplotlib.pyplot as plt\n",
    "from sklearn.preprocessing import StandardScaler\n",
    "\n",
    "customers = pd.read_csv('Customers.csv')\n",
    "products = pd.read_csv('Products.csv')\n",
    "transactions = pd.read_csv('Transactions.csv')\n",
    "\n",
    "transactions = transactions.merge(customers, on='CustomerID', how='left')\n",
    "transactions = transactions.merge(products, on='ProductID', how='left')\n",
    "\n",
    "transactions.rename(columns={'Price_x': 'TransactionPrice', 'Price_y': 'ProductPrice'}, inplace=True)"
   ]
  },
  {
   "cell_type": "markdown",
   "id": "a89328a5-9039-4245-88fa-ebd6de8ae896",
   "metadata": {},
   "source": [
    "Grouping based on customer features"
   ]
  },
  {
   "cell_type": "code",
   "execution_count": 3,
   "id": "61f23b52-c518-46a6-8ec0-9bdb4b1c6f29",
   "metadata": {},
   "outputs": [],
   "source": [
    "customer_features = transactions.groupby('CustomerID').agg({\n",
    "    'TotalValue': 'sum',\n",
    "    'Quantity': 'sum',\n",
    "    'ProductPrice': 'mean'\n",
    "}).reset_index()"
   ]
  },
  {
   "cell_type": "code",
   "execution_count": 4,
   "id": "26b83c7f-53e2-411b-8747-b3d2b31d8b15",
   "metadata": {},
   "outputs": [
    {
     "data": {
      "text/html": [
       "<div>\n",
       "<style scoped>\n",
       "    .dataframe tbody tr th:only-of-type {\n",
       "        vertical-align: middle;\n",
       "    }\n",
       "\n",
       "    .dataframe tbody tr th {\n",
       "        vertical-align: top;\n",
       "    }\n",
       "\n",
       "    .dataframe thead th {\n",
       "        text-align: right;\n",
       "    }\n",
       "</style>\n",
       "<table border=\"1\" class=\"dataframe\">\n",
       "  <thead>\n",
       "    <tr style=\"text-align: right;\">\n",
       "      <th></th>\n",
       "      <th>CustomerID</th>\n",
       "      <th>TotalValue</th>\n",
       "      <th>Quantity</th>\n",
       "      <th>ProductPrice</th>\n",
       "    </tr>\n",
       "  </thead>\n",
       "  <tbody>\n",
       "    <tr>\n",
       "      <th>0</th>\n",
       "      <td>C0001</td>\n",
       "      <td>3354.52</td>\n",
       "      <td>12</td>\n",
       "      <td>278.334000</td>\n",
       "    </tr>\n",
       "    <tr>\n",
       "      <th>1</th>\n",
       "      <td>C0002</td>\n",
       "      <td>1862.74</td>\n",
       "      <td>10</td>\n",
       "      <td>208.920000</td>\n",
       "    </tr>\n",
       "    <tr>\n",
       "      <th>2</th>\n",
       "      <td>C0003</td>\n",
       "      <td>2725.38</td>\n",
       "      <td>14</td>\n",
       "      <td>195.707500</td>\n",
       "    </tr>\n",
       "    <tr>\n",
       "      <th>3</th>\n",
       "      <td>C0004</td>\n",
       "      <td>5354.88</td>\n",
       "      <td>23</td>\n",
       "      <td>240.636250</td>\n",
       "    </tr>\n",
       "    <tr>\n",
       "      <th>4</th>\n",
       "      <td>C0005</td>\n",
       "      <td>2034.24</td>\n",
       "      <td>7</td>\n",
       "      <td>291.603333</td>\n",
       "    </tr>\n",
       "    <tr>\n",
       "      <th>...</th>\n",
       "      <td>...</td>\n",
       "      <td>...</td>\n",
       "      <td>...</td>\n",
       "      <td>...</td>\n",
       "    </tr>\n",
       "    <tr>\n",
       "      <th>194</th>\n",
       "      <td>C0196</td>\n",
       "      <td>4982.88</td>\n",
       "      <td>12</td>\n",
       "      <td>416.992500</td>\n",
       "    </tr>\n",
       "    <tr>\n",
       "      <th>195</th>\n",
       "      <td>C0197</td>\n",
       "      <td>1928.65</td>\n",
       "      <td>9</td>\n",
       "      <td>227.056667</td>\n",
       "    </tr>\n",
       "    <tr>\n",
       "      <th>196</th>\n",
       "      <td>C0198</td>\n",
       "      <td>931.83</td>\n",
       "      <td>3</td>\n",
       "      <td>239.705000</td>\n",
       "    </tr>\n",
       "    <tr>\n",
       "      <th>197</th>\n",
       "      <td>C0199</td>\n",
       "      <td>1979.28</td>\n",
       "      <td>9</td>\n",
       "      <td>250.610000</td>\n",
       "    </tr>\n",
       "    <tr>\n",
       "      <th>198</th>\n",
       "      <td>C0200</td>\n",
       "      <td>4758.60</td>\n",
       "      <td>16</td>\n",
       "      <td>296.506000</td>\n",
       "    </tr>\n",
       "  </tbody>\n",
       "</table>\n",
       "<p>199 rows × 4 columns</p>\n",
       "</div>"
      ],
      "text/plain": [
       "    CustomerID  TotalValue  Quantity  ProductPrice\n",
       "0        C0001     3354.52        12    278.334000\n",
       "1        C0002     1862.74        10    208.920000\n",
       "2        C0003     2725.38        14    195.707500\n",
       "3        C0004     5354.88        23    240.636250\n",
       "4        C0005     2034.24         7    291.603333\n",
       "..         ...         ...       ...           ...\n",
       "194      C0196     4982.88        12    416.992500\n",
       "195      C0197     1928.65         9    227.056667\n",
       "196      C0198      931.83         3    239.705000\n",
       "197      C0199     1979.28         9    250.610000\n",
       "198      C0200     4758.60        16    296.506000\n",
       "\n",
       "[199 rows x 4 columns]"
      ]
     },
     "execution_count": 4,
     "metadata": {},
     "output_type": "execute_result"
    }
   ],
   "source": [
    "customer_features"
   ]
  },
  {
   "cell_type": "markdown",
   "id": "85a58f43-46c7-4763-8983-3afe09a3ef75",
   "metadata": {},
   "source": [
    "Normalizing values"
   ]
  },
  {
   "cell_type": "code",
   "execution_count": 5,
   "id": "6e89df99-e459-4aad-b720-683e00e5816e",
   "metadata": {},
   "outputs": [],
   "source": [
    "scaler = StandardScaler()\n",
    "normalized_features = scaler.fit_transform(customer_features[['TotalValue', 'Quantity', 'ProductPrice']])\n"
   ]
  },
  {
   "cell_type": "code",
   "execution_count": 6,
   "id": "2d2c15a8-c09b-4c7b-a7a8-84f47908bce6",
   "metadata": {},
   "outputs": [
    {
     "data": {
      "text/html": [
       "<div>\n",
       "<style scoped>\n",
       "    .dataframe tbody tr th:only-of-type {\n",
       "        vertical-align: middle;\n",
       "    }\n",
       "\n",
       "    .dataframe tbody tr th {\n",
       "        vertical-align: top;\n",
       "    }\n",
       "\n",
       "    .dataframe thead th {\n",
       "        text-align: right;\n",
       "    }\n",
       "</style>\n",
       "<table border=\"1\" class=\"dataframe\">\n",
       "  <thead>\n",
       "    <tr style=\"text-align: right;\">\n",
       "      <th></th>\n",
       "      <th>CustomerID</th>\n",
       "      <th>TotalValue</th>\n",
       "      <th>Quantity</th>\n",
       "      <th>ProductPrice</th>\n",
       "    </tr>\n",
       "  </thead>\n",
       "  <tbody>\n",
       "    <tr>\n",
       "      <th>0</th>\n",
       "      <td>C0001</td>\n",
       "      <td>3354.52</td>\n",
       "      <td>12</td>\n",
       "      <td>278.334000</td>\n",
       "    </tr>\n",
       "    <tr>\n",
       "      <th>1</th>\n",
       "      <td>C0002</td>\n",
       "      <td>1862.74</td>\n",
       "      <td>10</td>\n",
       "      <td>208.920000</td>\n",
       "    </tr>\n",
       "    <tr>\n",
       "      <th>2</th>\n",
       "      <td>C0003</td>\n",
       "      <td>2725.38</td>\n",
       "      <td>14</td>\n",
       "      <td>195.707500</td>\n",
       "    </tr>\n",
       "    <tr>\n",
       "      <th>3</th>\n",
       "      <td>C0004</td>\n",
       "      <td>5354.88</td>\n",
       "      <td>23</td>\n",
       "      <td>240.636250</td>\n",
       "    </tr>\n",
       "    <tr>\n",
       "      <th>4</th>\n",
       "      <td>C0005</td>\n",
       "      <td>2034.24</td>\n",
       "      <td>7</td>\n",
       "      <td>291.603333</td>\n",
       "    </tr>\n",
       "    <tr>\n",
       "      <th>...</th>\n",
       "      <td>...</td>\n",
       "      <td>...</td>\n",
       "      <td>...</td>\n",
       "      <td>...</td>\n",
       "    </tr>\n",
       "    <tr>\n",
       "      <th>194</th>\n",
       "      <td>C0196</td>\n",
       "      <td>4982.88</td>\n",
       "      <td>12</td>\n",
       "      <td>416.992500</td>\n",
       "    </tr>\n",
       "    <tr>\n",
       "      <th>195</th>\n",
       "      <td>C0197</td>\n",
       "      <td>1928.65</td>\n",
       "      <td>9</td>\n",
       "      <td>227.056667</td>\n",
       "    </tr>\n",
       "    <tr>\n",
       "      <th>196</th>\n",
       "      <td>C0198</td>\n",
       "      <td>931.83</td>\n",
       "      <td>3</td>\n",
       "      <td>239.705000</td>\n",
       "    </tr>\n",
       "    <tr>\n",
       "      <th>197</th>\n",
       "      <td>C0199</td>\n",
       "      <td>1979.28</td>\n",
       "      <td>9</td>\n",
       "      <td>250.610000</td>\n",
       "    </tr>\n",
       "    <tr>\n",
       "      <th>198</th>\n",
       "      <td>C0200</td>\n",
       "      <td>4758.60</td>\n",
       "      <td>16</td>\n",
       "      <td>296.506000</td>\n",
       "    </tr>\n",
       "  </tbody>\n",
       "</table>\n",
       "<p>199 rows × 4 columns</p>\n",
       "</div>"
      ],
      "text/plain": [
       "    CustomerID  TotalValue  Quantity  ProductPrice\n",
       "0        C0001     3354.52        12    278.334000\n",
       "1        C0002     1862.74        10    208.920000\n",
       "2        C0003     2725.38        14    195.707500\n",
       "3        C0004     5354.88        23    240.636250\n",
       "4        C0005     2034.24         7    291.603333\n",
       "..         ...         ...       ...           ...\n",
       "194      C0196     4982.88        12    416.992500\n",
       "195      C0197     1928.65         9    227.056667\n",
       "196      C0198      931.83         3    239.705000\n",
       "197      C0199     1979.28         9    250.610000\n",
       "198      C0200     4758.60        16    296.506000\n",
       "\n",
       "[199 rows x 4 columns]"
      ]
     },
     "execution_count": 6,
     "metadata": {},
     "output_type": "execute_result"
    }
   ],
   "source": [
    "customer_features"
   ]
  },
  {
   "cell_type": "markdown",
   "id": "9c5f6212-e351-4f3f-9669-cc4e92dbf505",
   "metadata": {},
   "source": [
    "Clustering"
   ]
  },
  {
   "cell_type": "code",
   "execution_count": 7,
   "id": "a93c03ed-2300-46fc-97ed-98ba08825ccc",
   "metadata": {},
   "outputs": [
    {
     "name": "stderr",
     "output_type": "stream",
     "text": [
      "C:\\Users\\riaka\\anaconda3\\Lib\\site-packages\\sklearn\\cluster\\_kmeans.py:1429: UserWarning: KMeans is known to have a memory leak on Windows with MKL, when there are less chunks than available threads. You can avoid it by setting the environment variable OMP_NUM_THREADS=1.\n",
      "  warnings.warn(\n"
     ]
    }
   ],
   "source": [
    "kmeans = KMeans(n_clusters=10, random_state=42)\n",
    "clusters = kmeans.fit_predict(normalized_features)\n",
    "customer_features['Cluster'] = clusters\n"
   ]
  },
  {
   "cell_type": "markdown",
   "id": "6369602c-c77a-40c0-a782-c568735ba492",
   "metadata": {},
   "source": [
    "Calculating DB Index"
   ]
  },
  {
   "cell_type": "code",
   "execution_count": 8,
   "id": "16a14380-c798-47a8-a3ce-ea0404880ecc",
   "metadata": {},
   "outputs": [
    {
     "name": "stdout",
     "output_type": "stream",
     "text": [
      "Davies-Bouldin Index: 0.874354292939002\n"
     ]
    }
   ],
   "source": [
    "db_index = davies_bouldin_score(normalized_features, clusters)\n",
    "print(f\"Davies-Bouldin Index: {db_index}\")"
   ]
  },
  {
   "cell_type": "markdown",
   "id": "b8446ddf-9904-40e1-848b-24076fce82b0",
   "metadata": {},
   "source": [
    "Plotting Clusters"
   ]
  },
  {
   "cell_type": "code",
   "execution_count": 9,
   "id": "ff76c8c8-6bcd-4a41-ba13-04fe5ac28507",
   "metadata": {},
   "outputs": [
    {
     "data": {
      "image/png": "[encoded data removed]",
      "text/plain": [
       "<Figure size 1000x600 with 2 Axes>"
      ]
     },
     "metadata": {},
     "output_type": "display_data"
    }
   ],
   "source": [
    "plt.figure(figsize=(10, 6))\n",
    "plt.scatter(normalized_features[:, 0], normalized_features[:, 1], c=clusters, cmap='viridis', s=50)\n",
    "plt.title('Customer Segmentation (KMeans Clustering)')\n",
    "plt.xlabel('Feature 1')\n",
    "plt.ylabel('Feature 2')\n",
    "plt.colorbar(label='Cluster')\n",
    "plt.show()"
   ]
  },
  {
   "cell_type": "code",
   "execution_count": null,
   "id": "54799298-5f3a-401e-b6b9-a2f90b66d054",
   "metadata": {},
   "outputs": [],
   "source": []
  }
 ],
 "metadata": {
  "kernelspec": {
   "display_name": "Python 3 (ipykernel)",
   "language": "python",
   "name": "python3"
  },
  "language_info": {
   "codemirror_mode": {
    "name": "ipython",
    "version": 3
   },
   "file_extension": ".py",
   "mimetype": "text/x-python",
   "name": "python",
   "nbconvert_exporter": "python",
   "pygments_lexer": "ipython3",
   "version": "3.12.7"
  }
 },
 "nbformat": 4,
 "nbformat_minor": 5
}
