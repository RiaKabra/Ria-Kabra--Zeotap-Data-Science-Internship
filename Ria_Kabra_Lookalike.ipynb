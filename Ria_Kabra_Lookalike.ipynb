{
 "cells": [
  {
   "cell_type": "markdown",
   "id": "15eed50b",
   "metadata": {},
   "source": [
    "### TASK 2 : LOOKALIKE MODEL"
   ]
  },
  {
   "cell_type": "markdown",
   "id": "b73be6f6-7dc7-443c-83a9-f5753a72b2e8",
   "metadata": {},
   "source": [
    "Import Libraries"
   ]
  },
  {
   "cell_type": "code",
   "execution_count": 1,
   "id": "774f9153",
   "metadata": {},
   "outputs": [],
   "source": [
    "import pandas as pd\n",
    "from sklearn.metrics.pairwise import cosine_similarity\n",
    "from sklearn.preprocessing import StandardScaler"
   ]
  },
  {
   "cell_type": "markdown",
   "id": "d9c4be58-b6ad-4ee0-b28c-43ee67e7ed29",
   "metadata": {},
   "source": [
    "Load data and Join"
   ]
  },
  {
   "cell_type": "code",
   "execution_count": 2,
   "id": "4f699208-407e-490d-8bbf-280b7b2822a8",
   "metadata": {},
   "outputs": [],
   "source": [
    "customers = pd.read_csv('Customers.csv')\n",
    "products = pd.read_csv('Products.csv')\n",
    "transactions = pd.read_csv('Transactions.csv')\n",
    "\n",
    "transactions = transactions.merge(customers, on='CustomerID')\n",
    "transactions = transactions.merge(products, on='ProductID')\n",
    "\n",
    "transactions.rename(columns={'Price_x': 'TransactionPrice', 'Price_y': 'ProductPrice'}, inplace=True)"
   ]
  },
  {
   "cell_type": "markdown",
   "id": "e3ed02c4-4520-4ad5-ad13-06a883faf97f",
   "metadata": {},
   "source": [
    "Selecting features"
   ]
  },
  {
   "cell_type": "code",
   "execution_count": 3,
   "id": "a58f0a6a-3f64-4864-9354-db90358d2a51",
   "metadata": {},
   "outputs": [],
   "source": [
    "customer_features = transactions.groupby('CustomerID').agg({\n",
    "    'TotalValue': 'sum',\n",
    "    'Quantity': 'sum',\n",
    "    'ProductPrice': 'mean'\n",
    "}).reset_index()"
   ]
  },
  {
   "cell_type": "markdown",
   "id": "cf2f5473-7fc2-43d7-aa27-f3d2fa519272",
   "metadata": {},
   "source": [
    "Normalizing features and getting similarity matrix"
   ]
  },
  {
   "cell_type": "code",
   "execution_count": 4,
   "id": "691f2cf0-ece9-4280-bfa1-942987524f85",
   "metadata": {},
   "outputs": [],
   "source": [
    "scaler = StandardScaler()\n",
    "normalized_features = scaler.fit_transform(customer_features[['TotalValue', 'Quantity', 'ProductPrice']])\n"
   ]
  },
  {
   "cell_type": "code",
   "execution_count": 5,
   "id": "fdf68c5f-8d02-4e20-9fd7-7ddba16347db",
   "metadata": {},
   "outputs": [],
   "source": [
    "similarity_matrix = cosine_similarity(normalized_features)"
   ]
  },
  {
   "cell_type": "code",
   "execution_count": 6,
   "id": "cad69c84-b3f1-40f6-a589-6abf52e0d50a",
   "metadata": {},
   "outputs": [
    {
     "name": "stdout",
     "output_type": "stream",
     "text": [
      "[[ 1.          0.1045127  -0.52492341 ...  0.65676953  0.5432884\n",
      "  -0.47067861]\n",
      " [ 0.1045127   1.          0.79153106 ...  0.81260123  0.88921505\n",
      "  -0.92620821]\n",
      " [-0.52492341  0.79153106  1.         ...  0.29066238  0.42799653\n",
      "  -0.50379189]\n",
      " ...\n",
      " [ 0.65676953  0.81260123  0.29066238 ...  1.          0.97675504\n",
      "  -0.96608909]\n",
      " [ 0.5432884   0.88921505  0.42799653 ...  0.97675504  1.\n",
      "  -0.99568784]\n",
      " [-0.47067861 -0.92620821 -0.50379189 ... -0.96608909 -0.99568784\n",
      "   1.        ]]\n"
     ]
    }
   ],
   "source": [
    "print(similarity_matrix)"
   ]
  },
  {
   "cell_type": "markdown",
   "id": "c000f0d9-8b4c-454c-8f66-4b48591fecbd",
   "metadata": {},
   "source": [
    "Saving results in csv file"
   ]
  },
  {
   "cell_type": "code",
   "execution_count": 7,
   "id": "f0010ed6-0bed-4e17-b631-7106d6674fb2",
   "metadata": {},
   "outputs": [],
   "source": [
    "lookalike_results = {}\n",
    "for i in range(20):\n",
    "    customer_id = customer_features.iloc[i]['CustomerID']\n",
    "    similarities = list(enumerate(similarity_matrix[i]))\n",
    "    similarities = sorted(similarities, key=lambda x: x[1], reverse=True)\n",
    "    top_3 = [(customer_features.iloc[j[0]]['CustomerID'], round(j[1], 2)) for j in similarities[1:4]]\n",
    "    lookalike_results[customer_id] = top_3\n",
    "\n",
    "lookalike_df = pd.DataFrame([{'CustomerID': k, 'Recommendations': v} for k, v in lookalike_results.items()])\n",
    "lookalike_df.to_csv('Lookalike.csv', index=False)\n"
   ]
  },
  {
   "cell_type": "markdown",
   "id": "8d9acc40",
   "metadata": {},
   "source": [
    "### Output\n",
    "The recommendations for the first 20 customers are saved in `Lookalike.csv`."
   ]
  }
 ],
 "metadata": {
  "kernelspec": {
   "display_name": "Python 3 (ipykernel)",
   "language": "python",
   "name": "python3"
  },
  "language_info": {
   "codemirror_mode": {
    "name": "ipython",
    "version": 3
   },
   "file_extension": ".py",
   "mimetype": "text/x-python",
   "name": "python",
   "nbconvert_exporter": "python",
   "pygments_lexer": "ipython3",
   "version": "3.12.7"
  }
 },
 "nbformat": 4,
 "nbformat_minor": 5
}
